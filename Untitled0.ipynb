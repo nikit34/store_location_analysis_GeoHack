{
  "nbformat": 4,
  "nbformat_minor": 0,
  "metadata": {
    "colab": {
      "name": "Untitled0.ipynb",
      "version": "0.3.2",
      "provenance": []
    },
    "kernelspec": {
      "name": "python3",
      "display_name": "Python 3"
    }
  },
  "cells": [
    {
      "metadata": {
        "id": "vkNeEkFfqBD_",
        "colab_type": "code",
        "outputId": "a6a25f62-4440-4ebd-e0d9-b170e252b560",
        "colab": {
          "base_uri": "https://localhost:8080/",
          "height": 224
        }
      },
      "cell_type": "code",
      "source": [
        "!pip install folium\n",
        "#!rm *."
      ],
      "execution_count": 491,
      "outputs": [
        {
          "output_type": "stream",
          "text": [
            "Requirement already satisfied: folium in /usr/local/lib/python3.6/dist-packages (0.8.3)\n",
            "Requirement already satisfied: jinja2 in /usr/local/lib/python3.6/dist-packages (from folium) (2.10.1)\n",
            "Requirement already satisfied: numpy in /usr/local/lib/python3.6/dist-packages (from folium) (1.16.2)\n",
            "Requirement already satisfied: requests in /usr/local/lib/python3.6/dist-packages (from folium) (2.18.4)\n",
            "Requirement already satisfied: branca>=0.3.0 in /usr/local/lib/python3.6/dist-packages (from folium) (0.3.1)\n",
            "Requirement already satisfied: six in /usr/local/lib/python3.6/dist-packages (from folium) (1.11.0)\n",
            "Requirement already satisfied: MarkupSafe>=0.23 in /usr/local/lib/python3.6/dist-packages (from jinja2->folium) (1.1.1)\n",
            "Requirement already satisfied: certifi>=2017.4.17 in /usr/local/lib/python3.6/dist-packages (from requests->folium) (2019.3.9)\n",
            "Requirement already satisfied: chardet<3.1.0,>=3.0.2 in /usr/local/lib/python3.6/dist-packages (from requests->folium) (3.0.4)\n",
            "Requirement already satisfied: idna<2.7,>=2.5 in /usr/local/lib/python3.6/dist-packages (from requests->folium) (2.6)\n",
            "Requirement already satisfied: urllib3<1.23,>=1.21.1 in /usr/local/lib/python3.6/dist-packages (from requests->folium) (1.22)\n"
          ],
          "name": "stdout"
        }
      ]
    },
    {
      "metadata": {
        "id": "Zn9FwvcLp-WL",
        "colab_type": "code",
        "colab": {}
      },
      "cell_type": "code",
      "source": [
        "import xlrd, csv\n",
        "import pandas as pd\n",
        "import re, requests\n",
        "from math import pi,sqrt,sin,cos,atan2\n",
        "from tqdm import tqdm\n",
        "import numpy as np"
      ],
      "execution_count": 0,
      "outputs": []
    },
    {
      "metadata": {
        "id": "SDtNqUNPoDvM",
        "colab_type": "code",
        "outputId": "5ce3e3c5-c836-4323-96f7-200bcc87b120",
        "colab": {
          "base_uri": "https://localhost:8080/",
          "height": 85
        }
      },
      "cell_type": "code",
      "source": [
        "file = 'objects_hakaton_update.xlsx'\n",
        "file1 = 'competitors_hakaton.xlsx'\n",
        "#file=input()\n",
        "#file1=input()\n",
        "\n",
        "\n",
        "def csv_from_excel(file):\n",
        "\n",
        "    wb = xlrd.open_workbook(file,'rb')\n",
        "    print(wb.sheet_names())\n",
        "    sh = wb.sheet_by_name('Лист1')\n",
        "    file = re.sub(r'.xlsx', '', file)\n",
        "    print(file)\n",
        "    your_csv_file = open(file+'.csv', 'w')\n",
        "    wr = csv.writer(your_csv_file, quoting=csv.QUOTE_ALL)\n",
        "\n",
        "    for rownum in range(sh.nrows):\n",
        "        wr.writerow(sh.row_values(rownum))\n",
        "\n",
        "    your_csv_file.close()\n",
        "  \n",
        "  \n",
        "csv_from_excel(file)\n",
        "csv_from_excel(file1)"
      ],
      "execution_count": 83,
      "outputs": [
        {
          "output_type": "stream",
          "text": [
            "['Лист1', 'Лист2', 'Лист3']\n",
            "objects_hakaton_update\n",
            "['Лист1', 'Лист2', 'Лист3']\n",
            "competitors_hakaton\n"
          ],
          "name": "stdout"
        }
      ]
    },
    {
      "metadata": {
        "id": "iWBWUAERR1fl",
        "colab_type": "code",
        "outputId": "622726cd-3a8b-433e-d0c1-8b893a8e1331",
        "colab": {
          "base_uri": "https://localhost:8080/",
          "height": 1292
        }
      },
      "cell_type": "code",
      "source": [
        "com = pd.read_csv('competitors_hakaton.csv') \n",
        "obj = pd.read_csv('objects_hakaton_update.csv') \n",
        "analys = pd.DataFrame(index=list(range(len(obj))),columns=['LATITUDE','LONGITUDE','date_open','business_area','value_old','value_new','locality_population','distance_1','Код объекта_1','Формат_1','Торговая площадь_1','latitude_1','longitude_1','distance_2','Код объекта_2','Формат_2','Торговая площадь_2','latitude_2','longitude_2'])\n",
        "analys[['LATITUDE','LONGITUDE','date_open','business_area','value_old','value_new','locality_population']]=obj[['LATITUDE','LONGITUDE','date_open','business_area','value_old','value_new','locality_population']]\n",
        "print(com.head())\n",
        "print();print();print();print()\n",
        "print(obj.head())\n",
        "print();print();print();print()\n",
        "print(analys.head())\n",
        "\n",
        "buf = pd.DataFrame(index=list(range(len(com))),columns=['distance','Код объекта','Формат', 'Торговая площадь','latitude', 'longitude'])"
      ],
      "execution_count": 84,
      "outputs": [
        {
          "output_type": "stream",
          "text": [
            "                    Регион Код объекта  \\\n",
            "0  республика Башкортостан          c1   \n",
            "1  республика Башкортостан          c1   \n",
            "2  республика Башкортостан          c1   \n",
            "3  республика Башкортостан          c2   \n",
            "4  республика Башкортостан          c3   \n",
            "\n",
            "                                       Адрес объекта          Формат  \\\n",
            "0  Республика Башкортостан, Салават, улица Губкин...  Прочие форматы   \n",
            "1  Республика Башкортостан, Салават, бульвар Сала...  Прочие форматы   \n",
            "2  Республика Башкортостан, Салават, улица Чапаев...  Прочие форматы   \n",
            "3  Республика Башкортостан, Уфа, проспект Октября...  Прочие форматы   \n",
            "4  Республика Башкортостан, Стерлитамак, микрорай...  Прочие форматы   \n",
            "\n",
            "   Торговая площадь   latitude  longitude  \n",
            "0             200.0  53.350202  55.948122  \n",
            "1             200.0  53.342177  55.937710  \n",
            "2             200.0  53.365184  55.936228  \n",
            "3             200.0  54.774130  56.029838  \n",
            "4             375.0  53.599821  55.937329  \n",
            "\n",
            "\n",
            "\n",
            "\n",
            "    LATITUDE  LONGITUDE              REGION  date_open  \\\n",
            "0  45.065926  39.041640  Краснодарский край    42874.0   \n",
            "1  44.981387  37.267516  Краснодарский край    42633.0   \n",
            "2  44.875977  37.325717  Краснодарский край    42481.0   \n",
            "3  45.210160  36.708827  Краснодарский край    43084.0   \n",
            "4  44.886060  37.326439  Краснодарский край    41958.0   \n",
            "\n",
            "                               address  business_area   value_old   value_new  \\\n",
            "0     г.Краснодар, Черкасская ул, 72/1          640.0  123.509252  150.000000   \n",
            "1          с.Витязево, Горького ул, 85          372.0  122.289183  146.461194   \n",
            "2    г.Анапа, Ленина ул., 154А п.1,п.2          586.0  138.055594  141.798052   \n",
            "3  ст-ца Тамань, Карла Маркса ул, 157А          399.0   77.170644  128.653940   \n",
            "4  г.Анапа, Краснодарская ул, 66В п.19          379.0  116.957678  121.087116   \n",
            "\n",
            "  locality_type locality_name  locality_population  \n",
            "0         город     Краснодар             899541.0  \n",
            "1          село      Витязево               7936.0  \n",
            "2         город         Анапа              58990.0  \n",
            "3       станица        Тамань              10027.0  \n",
            "4         город         Анапа              58990.0  \n",
            "\n",
            "\n",
            "\n",
            "\n",
            "    LATITUDE  LONGITUDE  date_open  business_area   value_old   value_new  \\\n",
            "0  45.065926  39.041640    42874.0          640.0  123.509252  150.000000   \n",
            "1  44.981387  37.267516    42633.0          372.0  122.289183  146.461194   \n",
            "2  44.875977  37.325717    42481.0          586.0  138.055594  141.798052   \n",
            "3  45.210160  36.708827    43084.0          399.0   77.170644  128.653940   \n",
            "4  44.886060  37.326439    41958.0          379.0  116.957678  121.087116   \n",
            "\n",
            "   locality_population distance_1 Код объекта_1 Формат_1 Торговая площадь_1  \\\n",
            "0             899541.0        NaN           NaN      NaN                NaN   \n",
            "1               7936.0        NaN           NaN      NaN                NaN   \n",
            "2              58990.0        NaN           NaN      NaN                NaN   \n",
            "3              10027.0        NaN           NaN      NaN                NaN   \n",
            "4              58990.0        NaN           NaN      NaN                NaN   \n",
            "\n",
            "  latitude_1 longitude_1 distance_2 Код объекта_2 Формат_2 Торговая площадь_2  \\\n",
            "0        NaN         NaN        NaN           NaN      NaN                NaN   \n",
            "1        NaN         NaN        NaN           NaN      NaN                NaN   \n",
            "2        NaN         NaN        NaN           NaN      NaN                NaN   \n",
            "3        NaN         NaN        NaN           NaN      NaN                NaN   \n",
            "4        NaN         NaN        NaN           NaN      NaN                NaN   \n",
            "\n",
            "  latitude_2 longitude_2  \n",
            "0        NaN         NaN  \n",
            "1        NaN         NaN  \n",
            "2        NaN         NaN  \n",
            "3        NaN         NaN  \n",
            "4        NaN         NaN  \n"
          ],
          "name": "stdout"
        }
      ]
    },
    {
      "metadata": {
        "id": "52SVP72mawex",
        "colab_type": "code",
        "colab": {
          "base_uri": "https://localhost:8080/",
          "height": 513
        },
        "outputId": "394736b6-7584-4b44-88b5-a147e34a38d4"
      },
      "cell_type": "code",
      "source": [
        "for i in tqdm(range(len(obj))):\n",
        "    mi_n = mi_n1 = 1000000000\n",
        "    for j in range(len(com)):\n",
        "        lat1 = float(obj.iloc[i, 0])\n",
        "        long1 = float(obj.iloc[i, 1])\n",
        "        lat2 = float(com.iloc[j, 5])\n",
        "        long2 = float(com.iloc[j, 6])\n",
        "        degree_to_rad = float(pi / 180.0)\n",
        "        d_lat = (lat2 - lat1) * degree_to_rad\n",
        "        d_long = (long2 - long1) * degree_to_rad\n",
        "        a = pow(sin(d_lat / 2), 2) + cos(lat1 * degree_to_rad) * cos(lat2 * degree_to_rad) * pow(sin(d_long / 2), 2)\n",
        "        c = 2 * atan2(sqrt(a), sqrt(1 - a))\n",
        "        if ((mi_n > 6367 * c) or (mi_n1  >= 6367 * c)):\n",
        "            buf.iloc[j , 0] = 6367 * c \n",
        "            buf.iloc[j , 1] =com.iloc[j, 1]\n",
        "            buf.iloc[j , 2] =com.iloc[j, 3]\n",
        "            buf.iloc[j , 3] =com.iloc[j, 4]\n",
        "            buf.iloc[j , 4] =com.iloc[j, 5]\n",
        "            buf.iloc[j , 5] =com.iloc[j, 6]\n",
        "            mi_n1 = mi_n\n",
        "            mi_n = 6367 * c\n",
        "    buf=buf.sort_values(by='distance', ascending=True)\n",
        "    analys.iloc[i,7]=buf.iloc[0,0]\n",
        "    analys.iloc[i,8]=buf.iloc[0,1]\n",
        "    analys.iloc[i,9]=buf.iloc[0,2]\n",
        "    analys.iloc[i,10]=buf.iloc[0,3]\n",
        "    analys.iloc[i,11]=buf.iloc[0,4]\n",
        "    analys.iloc[i,12]=buf.iloc[0,5]\n",
        "    analys.iloc[i,13]=buf.iloc[1,0]\n",
        "    analys.iloc[i,14]=buf.iloc[1,1]\n",
        "    analys.iloc[i,15]=buf.iloc[1,2]\n",
        "    analys.iloc[i,16]=buf.iloc[1,3]\n",
        "    analys.iloc[i,17]=buf.iloc[1,4]\n",
        "    analys.iloc[i,18]=buf.iloc[1,5]\n",
        "    \n",
        "    \n",
        "    #analys.iloc[i,7]=buf.iloc[0,0]\n",
        "    #analys.iloc[i,8]=com.iloc[buf.loc[buf['len']==buf.iloc[0,0]].index[0],1]\n",
        "    #analys.iloc[i,9]=com.iloc[buf.loc[buf['len']==buf.iloc[0,0]].index[0],3]\n",
        "    #analys.iloc[i,10]=com.iloc[buf.loc[buf['len']==buf.iloc[0,0]].index[0],4]\n",
        "    #analys.iloc[i,11]=com.iloc[buf.loc[buf['len']==buf.iloc[0,0]].index[0],5]\n",
        "    #analys.iloc[i,12]=com.iloc[buf.loc[buf['len']==buf.iloc[0,0]].index[0],6]\n",
        "    #analys.iloc[i,13]=buf.iloc[1,0]\n",
        "    #analys.iloc[i,14]=com.iloc[buf.loc[buf['len']==buf.iloc[1,0]].index[0],1]\n",
        "    #analys.iloc[i,15]=com.iloc[buf.loc[buf['len']==buf.iloc[1,0]].index[0],3]\n",
        "    #analys.iloc[i,16]=com.iloc[buf.loc[buf['len']==buf.iloc[1,0]].index[0],4]\n",
        "    #analys.iloc[i,17]=com.iloc[buf.loc[buf['len']==buf.iloc[1,0]].index[0],5]\n",
        "    #analys.iloc[i,18]=com.iloc[buf.loc[buf['len']==buf.iloc[1,0]].index[0],6]\n",
        "\n"
      ],
      "execution_count": 86,
      "outputs": [
        {
          "output_type": "stream",
          "text": [
            "100%|██████████| 521/521 [01:57<00:00,  4.35it/s]"
          ],
          "name": "stderr"
        },
        {
          "output_type": "stream",
          "text": [
            "    LATITUDE  LONGITUDE  date_open  business_area   value_old   value_new  \\\n",
            "0  45.065926  39.041640    42874.0          640.0  123.509252  150.000000   \n",
            "1  44.981387  37.267516    42633.0          372.0  122.289183  146.461194   \n",
            "2  44.875977  37.325717    42481.0          586.0  138.055594  141.798052   \n",
            "3  45.210160  36.708827    43084.0          399.0   77.170644  128.653940   \n",
            "4  44.886060  37.326439    41958.0          379.0  116.957678  121.087116   \n",
            "\n",
            "   locality_population distance_1 Код объекта_1            Формат_1  \\\n",
            "0             899541.0  0.0343516           c43  дискаунтер сетевой   \n",
            "1               7936.0   0.429577           c34      Прочие форматы   \n",
            "2              58990.0   0.302937           c43  дискаунтер сетевой   \n",
            "3              10027.0   0.215668           c43  дискаунтер сетевой   \n",
            "4              58990.0   0.198539           c43  дискаунтер сетевой   \n",
            "\n",
            "   Торговая площадь_1 latitude_1 longitude_1 distance_2 Код объекта_2  \\\n",
            "0                 284    45.0601     38.9697   0.258309           c34   \n",
            "1                  80    45.0696     39.0398   0.469231           c17   \n",
            "2                 274    44.8754     37.3295   0.531536           c43   \n",
            "3                 189     45.209     36.7066   0.553209           c34   \n",
            "4                 577    44.8843     37.3268   0.225679           c43   \n",
            "\n",
            "             Формат_2  Торговая площадь_2 latitude_2 longitude_2  \n",
            "0      Прочие форматы                  80    45.0599     38.9726  \n",
            "1  дискаунтер сетевой                 600    55.0466     55.9578  \n",
            "2  дискаунтер сетевой                 303    44.8718      37.329  \n",
            "3      Прочие форматы                  80     55.046      55.957  \n",
            "4  дискаунтер сетевой                 340    44.8877     37.3247  \n"
          ],
          "name": "stdout"
        },
        {
          "output_type": "stream",
          "text": [
            "\n"
          ],
          "name": "stderr"
        }
      ]
    },
    {
      "metadata": {
        "id": "VS--qS3w2rw_",
        "colab_type": "code",
        "colab": {
          "base_uri": "https://localhost:8080/",
          "height": 361
        },
        "outputId": "ae42c003-a3f6-4d7d-ba4e-a29c0930779f"
      },
      "cell_type": "code",
      "source": [
        "import seaborn as sns\n",
        "import matplotlib.pyplot as plt\n",
        "from scipy.stats import skewnorm\n",
        "\n",
        "\n",
        " \n",
        "# Create and shor the 2D Density plot\n",
        "ax = sns.kdeplot(analys['date_open'], analys['business_area'], cmap=\"Reds\", shade=False, bw=.15, cbar=True)\n",
        "ax.set(xlabel='date_open', ylabel='business_area')\n",
        "plt.show()"
      ],
      "execution_count": 558,
      "outputs": [
        {
          "output_type": "display_data",
          "data": {
            "image/png": "[encoded data removed]",
            "text/plain": [
              "<Figure size 576x396 with 1 Axes>"
            ]
          },
          "metadata": {
            "tags": []
          }
        }
      ]
    },
    {
      "metadata": {
        "id": "G43dWvh_47SG",
        "colab_type": "code",
        "colab": {
          "base_uri": "https://localhost:8080/",
          "height": 371
        },
        "outputId": "2631c947-e4d4-4022-c906-4686a5d4a176"
      },
      "cell_type": "code",
      "source": [
        "import pandas as pd\n",
        "import seaborn as sns\n",
        "import numpy as np\n",
        "import matplotlib.pyplot as plt\n",
        "\n",
        "\n",
        "\"\"\"\n",
        "   #             Name  Attack  Defense  Speed  Range  Health\n",
        "0  1         Iron Man      83       80     75     70      70\n",
        "1  2  Captain America      60       62     63     80      80\n",
        "2  3             Thor      80       82     83    100     100\n",
        "3  3             Hulk      80      100     67     44      92\n",
        "4  4      Black Widow      52       43     60     50      65\n",
        "5  5          Hawkeye      58       64     58     80      65\n",
        "\n",
        "\"\"\"\n",
        "\n",
        "# Get the data for Iron Man\n",
        "labels=np.array([\"date_open\", \"business_area\", \"value_old\", \"value_new\"])\n",
        "stats=analys.loc[0,labels].values\n",
        "\n",
        "# Make some calculations for the plot\n",
        "angles=np.linspace(0, 2*np.pi, len(labels), endpoint=False)\n",
        "stats=np.concatenate((stats,[stats[0]]))\n",
        "angles=np.concatenate((angles,[angles[0]]))\n",
        "\n",
        "# Plot stuff\n",
        "fig = plt.figure()\n",
        "ax = fig.add_subplot(111, polar=True)\n",
        "ax.plot(angles, stats, 'o-', linewidth=2)\n",
        "ax.fill(angles, stats, alpha=0.25)\n",
        "ax.set_thetagrids(angles * 180/np.pi, labels)\n",
        "ax.set_title([analys.loc[0,\"locality_population\"]])\n",
        "ax.grid(True)\n",
        "\n",
        "plt.show()"
      ],
      "execution_count": 561,
      "outputs": [
        {
          "output_type": "display_data",
          "data": {
            "image/png": "[encoded data removed]",
            "text/plain": [
              "<Figure size 576x396 with 1 Axes>"
            ]
          },
          "metadata": {
            "tags": []
          }
        }
      ]
    },
    {
      "metadata": {
        "id": "3Ij2hl5PP9Oc",
        "colab_type": "code",
        "colab": {
          "base_uri": "https://localhost:8080/",
          "height": 476
        },
        "outputId": "1bca1c29-5f58-484c-f4b7-071c01d26a1f"
      },
      "cell_type": "code",
      "source": [
        "analys.to_csv('analys.csv',index=False)\n",
        "data = pd.read_csv('analys.csv')\n",
        "\n",
        "\n",
        "\n",
        "data['Код объекта_1'] = data['Код объекта_1'].str.replace('c','').astype(int)\n",
        "data['Код объекта_2'] = data['Код объекта_2'].str.replace('c','').astype(int)\n",
        "\n",
        "data[['Формат_1','Формат_2']]=data[['Формат_1','Формат_2']].replace('Прочие форматы', 0)\n",
        "data[['Формат_1','Формат_2']]=data[['Формат_1','Формат_2']].replace('дискаунтер сетевой', 1)\n",
        "data[['Формат_1','Формат_2']]=data[['Формат_1','Формат_2']].replace('супермаркет', 2)\n",
        "data[['Формат_1','Формат_2']]=data[['Формат_1','Формат_2']].replace('гипермаркет', 3)\n",
        "data[['Формат_1','Формат_2']]=data[['Формат_1','Формат_2']].replace('дискаунтер несетевой', 4)\n",
        "\n",
        "print(data.head())\n",
        "#for i in range(20):\n",
        "    #print(data[data.columns[1:-1]].apply(lambda x: x.corr(data.iloc[1:,i])))"
      ],
      "execution_count": 439,
      "outputs": [
        {
          "output_type": "stream",
          "text": [
            "    LATITUDE  LONGITUDE  date_open  business_area   value_old   value_new  \\\n",
            "0  45.065926  39.041640    42874.0          640.0  123.509252  150.000000   \n",
            "1  44.981387  37.267516    42633.0          372.0  122.289183  146.461194   \n",
            "2  44.875977  37.325717    42481.0          586.0  138.055594  141.798052   \n",
            "3  45.210160  36.708827    43084.0          399.0   77.170644  128.653940   \n",
            "4  44.886060  37.326439    41958.0          379.0  116.957678  121.087116   \n",
            "\n",
            "   locality_population  distance_1  Код объекта_1  Формат_1  \\\n",
            "0             899541.0    0.034352             43         1   \n",
            "1               7936.0    0.429577             34         0   \n",
            "2              58990.0    0.302937             43         1   \n",
            "3              10027.0    0.215668             43         1   \n",
            "4              58990.0    0.198539             43         1   \n",
            "\n",
            "   Торговая площадь_1  latitude_1  longitude_1  distance_2  Код объекта_2  \\\n",
            "0                 284   45.060134    38.969734    0.258309             34   \n",
            "1                  80   45.069556    39.039758    0.469231             17   \n",
            "2                 274   44.875391    37.329474    0.531536             43   \n",
            "3                 189   45.209009    36.706609    0.553209             34   \n",
            "4                 577   44.884288    37.326761    0.225679             43   \n",
            "\n",
            "   Формат_2  Торговая площадь_2  latitude_2  longitude_2  \n",
            "0         0                  80   45.059873    38.972627  \n",
            "1         1                 600   55.046595    55.957779  \n",
            "2         1                 303   44.871784    37.328965  \n",
            "3         0                  80   55.045960    55.957038  \n",
            "4         1                 340   44.887683    37.324716  \n"
          ],
          "name": "stdout"
        }
      ]
    },
    {
      "metadata": {
        "id": "wEP1up6exIsw",
        "colab_type": "code",
        "colab": {}
      },
      "cell_type": "code",
      "source": [
        "from keras.models import Sequential\n",
        "from keras.layers import Dense\n",
        "import sklearn.model_selection as model_selection\n",
        "from sklearn.metrics import mean_absolute_error\n"
      ],
      "execution_count": 0,
      "outputs": []
    },
    {
      "metadata": {
        "id": "yIQiaRYnYiH7",
        "colab_type": "code",
        "colab": {}
      },
      "cell_type": "code",
      "source": [
        "X_train, X_test, y_train, y_test = model_selection.train_test_split(data.loc[:, data.columns != 'value_new'],data['value_new'], train_size=0.80)\n",
        "\n",
        "mean = X_train.mean(axis=0)\n",
        "# Стандартное отклонение\n",
        "std = X_train.std(axis=0)\n",
        "X_train = X_train- mean\n",
        "X_train = X_train / std\n",
        "X_test = X_test - mean\n",
        "X_test = X_test / std"
      ],
      "execution_count": 0,
      "outputs": []
    },
    {
      "metadata": {
        "colab_type": "code",
        "id": "1-YWODisrom2",
        "colab": {
          "base_uri": "https://localhost:8080/",
          "height": 34
        },
        "outputId": "3e0a1f19-0357-460e-dfb6-cccfa2ae62bf"
      },
      "cell_type": "code",
      "source": [
        "model = Sequential()\n",
        "model.add(Dense(128, activation='relu', input_shape=(X_train.shape[1],)))\n",
        "model.add(Dense(1))\n",
        "model.compile(optimizer='adam', loss='mse', metrics=['mae'])\n",
        "model.fit(X_train, y_train, epochs=500, batch_size=16, verbose=0)"
      ],
      "execution_count": 442,
      "outputs": [
        {
          "output_type": "execute_result",
          "data": {
            "text/plain": [
              "<keras.callbacks.History at 0x7f7c893baef0>"
            ]
          },
          "metadata": {
            "tags": []
          },
          "execution_count": 442
        }
      ]
    },
    {
      "metadata": {
        "id": "xzA58T_1r6EY",
        "colab_type": "code",
        "colab": {
          "base_uri": "https://localhost:8080/",
          "height": 1156
        },
        "outputId": "e461b73c-00a7-4f15-f6b5-24fb84b6b442"
      },
      "cell_type": "code",
      "source": [
        "mse, mae = model.evaluate(X_test, y_test, verbose=0)\n",
        "print(\"Средняя абсолютная ошибка: \", mae,\"\\nСреднеквадратическая ошибка: \", mse)\n",
        "\n",
        "pred = np.ravel(model.predict(X_test))\n",
        "y_test=np.array(y_test)\n",
        "\n",
        "\n",
        "out = pd.DataFrame(index=list(range(len(y_test))),columns=['Расчитанное','Истинное'])\n",
        "for i in range(len(pred)):\n",
        "    out.iloc[i,0] = pred[i]\n",
        "    out.iloc[i,1] = y_test[i]\n",
        "\n",
        "print(\"Предсказанная эффективность:\\n\",out)\n",
        "out.to_csv('result.csv', sep=' ',encoding='utf-8')"
      ],
      "execution_count": 482,
      "outputs": [
        {
          "output_type": "stream",
          "text": [
            "Средняя абсолютная ошибка:  4.3751673335120795 \n",
            "Среднеквадратическая ошибка:  32.88630868820917\n",
            "Предсказанная эффективность:\n",
            "     Расчитанное Истинное\n",
            "0       60.0421  55.7806\n",
            "1       58.1456  52.0939\n",
            "2         55.64  53.3563\n",
            "3       47.4175  41.2901\n",
            "4        47.873  46.2395\n",
            "5       54.2543  62.5412\n",
            "6       39.0015  39.4274\n",
            "7       42.9135  39.6647\n",
            "8       54.4171  54.8012\n",
            "9       69.2626  69.3052\n",
            "10      52.2782  51.2184\n",
            "11      62.1997  55.3523\n",
            "12      50.9957  64.9232\n",
            "13      38.4355  40.2522\n",
            "14      45.3919   49.987\n",
            "15      46.7577  50.0102\n",
            "16      47.8872  47.7379\n",
            "17      53.2597  61.7636\n",
            "18      37.3184  40.0635\n",
            "19      33.8813   35.911\n",
            "20      66.5811  67.3216\n",
            "21      62.0452  51.4832\n",
            "22      46.3392  52.9075\n",
            "23      35.1335   41.995\n",
            "24      56.1799  57.5347\n",
            "25      50.7427  56.9909\n",
            "26       55.378  61.9614\n",
            "27      67.0613  70.8175\n",
            "28      40.4991  43.4239\n",
            "29      50.0725  40.6436\n",
            "..          ...      ...\n",
            "75      40.1371  48.7339\n",
            "76       34.526  33.7645\n",
            "77      46.5304  43.9486\n",
            "78      37.8706  41.3713\n",
            "79      38.6589  41.5483\n",
            "80      42.8944  44.1344\n",
            "81      100.332  117.177\n",
            "82      31.6159  37.7194\n",
            "83      41.4037  39.4977\n",
            "84      41.2347  41.8131\n",
            "85      38.9614  26.6855\n",
            "86      65.0753  69.8087\n",
            "87      45.8662  45.8085\n",
            "88      47.8353  47.0322\n",
            "89       45.729  52.8746\n",
            "90      43.6818  45.2264\n",
            "91      65.5349  58.9883\n",
            "92      44.6089  44.2224\n",
            "93      62.8027  64.6134\n",
            "94      57.5214  53.5397\n",
            "95      59.3216  64.6907\n",
            "96      66.9532  67.7601\n",
            "97      44.3294  48.3387\n",
            "98      141.453  146.461\n",
            "99      38.7354  39.7166\n",
            "100     46.2394  50.2052\n",
            "101     71.6281  86.8151\n",
            "102     47.5789  48.2661\n",
            "103      77.273  85.3825\n",
            "104     41.9942  39.5377\n",
            "\n",
            "[105 rows x 2 columns]\n"
          ],
          "name": "stdout"
        }
      ]
    },
    {
      "metadata": {
        "id": "WYPoJjGPtiL6",
        "colab_type": "code",
        "colab": {
          "base_uri": "https://localhost:8080/",
          "height": 372
        },
        "outputId": "f454d9fc-7a25-44b8-fb00-515878e7a0d3"
      },
      "cell_type": "code",
      "source": [
        "import altair as alt\n",
        "#print(out)\n",
        "alt.Chart(out.astype(int)).mark_point(size=40).encode(\n",
        "    x='Расчитанное:Q',\n",
        "    y='Истинное:Q',\n",
        "    color='Origin:N',\n",
        "    tooltip=['Origin:N','Расчитанное:Q','Истинное:Q'] \n",
        ").configure_mark(\n",
        "    opacity=0.6,\n",
        "    \n",
        ").interactive()"
      ],
      "execution_count": 545,
      "outputs": [
        {
          "output_type": "execute_result",
          "data": {
            "text/plain": [
              "Chart({\n",
              "  config: Config({\n",
              "    mark: MarkConfig({\n",
              "      opacity: 0.6\n",
              "    })\n",
              "  }),\n",
              "  data:      Расчитанное  Истинное\n",
              "  0             60        55\n",
              "  1             58        52\n",
              "  2             55        53\n",
              "  3             47        41\n",
              "  4             47        46\n",
              "  5             54        62\n",
              "  6             39        39\n",
              "  7             42        39\n",
              "  8             54        54\n",
              "  9             69        69\n",
              "  10            52        51\n",
              "  11            62        55\n",
              "  12            50        64\n",
              "  13            38        40\n",
              "  14            45        49\n",
              "  15            46        50\n",
              "  16            47        47\n",
              "  17            53        61\n",
              "  18            37        40\n",
              "  19            33        35\n",
              "  20            66        67\n",
              "  21            62        51\n",
              "  22            46        52\n",
              "  23            35        41\n",
              "  24            56        57\n",
              "  25            50        56\n",
              "  26            55        61\n",
              "  27            67        70\n",
              "  28            40        43\n",
              "  29            50        40\n",
              "  ..           ...       ...\n",
              "  75            40        48\n",
              "  76            34        33\n",
              "  77            46        43\n",
              "  78            37        41\n",
              "  79            38        41\n",
              "  80            42        44\n",
              "  81           100       117\n",
              "  82            31        37\n",
              "  83            41        39\n",
              "  84            41        41\n",
              "  85            38        26\n",
              "  86            65        69\n",
              "  87            45        45\n",
              "  88            47        47\n",
              "  89            45        52\n",
              "  90            43        45\n",
              "  91            65        58\n",
              "  92            44        44\n",
              "  93            62        64\n",
              "  94            57        53\n",
              "  95            59        64\n",
              "  96            66        67\n",
              "  97            44        48\n",
              "  98           141       146\n",
              "  99            38        39\n",
              "  100           46        50\n",
              "  101           71        86\n",
              "  102           47        48\n",
              "  103           77        85\n",
              "  104           41        39\n",
              "  \n",
              "  [105 rows x 2 columns],\n",
              "  encoding: EncodingWithFacet({\n",
              "    color: Color({\n",
              "      shorthand: 'Origin:N'\n",
              "    }),\n",
              "    tooltip: [Tooltip({\n",
              "      shorthand: 'Origin:N'\n",
              "    }), Tooltip({\n",
              "      shorthand: 'Расчитанное:Q'\n",
              "    }), Tooltip({\n",
              "      shorthand: 'Истинное:Q'\n",
              "    })],\n",
              "    x: X({\n",
              "      shorthand: 'Расчитанное:Q'\n",
              "    }),\n",
              "    y: Y({\n",
              "      shorthand: 'Истинное:Q'\n",
              "    })\n",
              "  }),\n",
              "  mark: MarkDef({\n",
              "    size: 40,\n",
              "    type: 'point'\n",
              "  }),\n",
              "  selection: SelectionMapping({\n",
              "    selector121: SelectionDef({\n",
              "      bind: 'scales',\n",
              "      encodings: ['x', 'y'],\n",
              "      type: 'interval'\n",
              "    })\n",
              "  })\n",
              "})"
            ],
            "text/html": [
              "<!DOCTYPE html>\n",
              "<html>\n",
              "<head>\n",
              "  <style>\n",
              "    .vega-actions a {\n",
              "        margin-right: 12px;\n",
              "        color: #757575;\n",
              "        font-weight: normal;\n",
              "        font-size: 13px;\n",
              "    }\n",
              "    .error {\n",
              "        color: red;\n",
              "    }\n",
              "  </style>\n",
              "  <script type=\"text/javascript\" src=\"https://cdn.jsdelivr.net/npm//vega@4\"></script>\n",
              "  <script type=\"text/javascript\" src=\"https://cdn.jsdelivr.net/npm//vega-lite@2.6.0\"></script>\n",
              "  <script type=\"text/javascript\" src=\"https://cdn.jsdelivr.net/npm//vega-embed@3\"></script>\n",
              "</head>\n",
              "<body>\n",
              "  <div id=\"altair-viz\"></div>\n",
              "  <script>\n",
              "      var spec = {\"config\": {\"view\": {\"width\": 400, \"height\": 300}, \"mark\": {\"opacity\": 0.6}}, \"data\": {\"name\": \"data-c87c93288ff6a45c1403d958770b64d1\"}, \"mark\": {\"type\": \"point\", \"size\": 40}, \"encoding\": {\"color\": {\"type\": \"nominal\", \"field\": \"Origin\"}, \"tooltip\": [{\"type\": \"nominal\", \"field\": \"Origin\"}, {\"type\": \"quantitative\", \"field\": \"\\u0420\\u0430\\u0441\\u0447\\u0438\\u0442\\u0430\\u043d\\u043d\\u043e\\u0435\"}, {\"type\": \"quantitative\", \"field\": \"\\u0418\\u0441\\u0442\\u0438\\u043d\\u043d\\u043e\\u0435\"}], \"x\": {\"type\": \"quantitative\", \"field\": \"\\u0420\\u0430\\u0441\\u0447\\u0438\\u0442\\u0430\\u043d\\u043d\\u043e\\u0435\"}, \"y\": {\"type\": \"quantitative\", \"field\": \"\\u0418\\u0441\\u0442\\u0438\\u043d\\u043d\\u043e\\u0435\"}}, \"selection\": {\"selector121\": {\"type\": \"interval\", \"bind\": \"scales\", \"encodings\": [\"x\", \"y\"]}}, \"$schema\": \"https://vega.github.io/schema/vega-lite/v2.6.0.json\", \"datasets\": {\"data-c87c93288ff6a45c1403d958770b64d1\": [{\"\\u0420\\u0430\\u0441\\u0447\\u0438\\u0442\\u0430\\u043d\\u043d\\u043e\\u0435\": 60, \"\\u0418\\u0441\\u0442\\u0438\\u043d\\u043d\\u043e\\u0435\": 55}, {\"\\u0420\\u0430\\u0441\\u0447\\u0438\\u0442\\u0430\\u043d\\u043d\\u043e\\u0435\": 58, \"\\u0418\\u0441\\u0442\\u0438\\u043d\\u043d\\u043e\\u0435\": 52}, {\"\\u0420\\u0430\\u0441\\u0447\\u0438\\u0442\\u0430\\u043d\\u043d\\u043e\\u0435\": 55, \"\\u0418\\u0441\\u0442\\u0438\\u043d\\u043d\\u043e\\u0435\": 53}, {\"\\u0420\\u0430\\u0441\\u0447\\u0438\\u0442\\u0430\\u043d\\u043d\\u043e\\u0435\": 47, \"\\u0418\\u0441\\u0442\\u0438\\u043d\\u043d\\u043e\\u0435\": 41}, {\"\\u0420\\u0430\\u0441\\u0447\\u0438\\u0442\\u0430\\u043d\\u043d\\u043e\\u0435\": 47, \"\\u0418\\u0441\\u0442\\u0438\\u043d\\u043d\\u043e\\u0435\": 46}, {\"\\u0420\\u0430\\u0441\\u0447\\u0438\\u0442\\u0430\\u043d\\u043d\\u043e\\u0435\": 54, \"\\u0418\\u0441\\u0442\\u0438\\u043d\\u043d\\u043e\\u0435\": 62}, {\"\\u0420\\u0430\\u0441\\u0447\\u0438\\u0442\\u0430\\u043d\\u043d\\u043e\\u0435\": 39, \"\\u0418\\u0441\\u0442\\u0438\\u043d\\u043d\\u043e\\u0435\": 39}, {\"\\u0420\\u0430\\u0441\\u0447\\u0438\\u0442\\u0430\\u043d\\u043d\\u043e\\u0435\": 42, \"\\u0418\\u0441\\u0442\\u0438\\u043d\\u043d\\u043e\\u0435\": 39}, {\"\\u0420\\u0430\\u0441\\u0447\\u0438\\u0442\\u0430\\u043d\\u043d\\u043e\\u0435\": 54, \"\\u0418\\u0441\\u0442\\u0438\\u043d\\u043d\\u043e\\u0435\": 54}, {\"\\u0420\\u0430\\u0441\\u0447\\u0438\\u0442\\u0430\\u043d\\u043d\\u043e\\u0435\": 69, \"\\u0418\\u0441\\u0442\\u0438\\u043d\\u043d\\u043e\\u0435\": 69}, {\"\\u0420\\u0430\\u0441\\u0447\\u0438\\u0442\\u0430\\u043d\\u043d\\u043e\\u0435\": 52, \"\\u0418\\u0441\\u0442\\u0438\\u043d\\u043d\\u043e\\u0435\": 51}, {\"\\u0420\\u0430\\u0441\\u0447\\u0438\\u0442\\u0430\\u043d\\u043d\\u043e\\u0435\": 62, \"\\u0418\\u0441\\u0442\\u0438\\u043d\\u043d\\u043e\\u0435\": 55}, {\"\\u0420\\u0430\\u0441\\u0447\\u0438\\u0442\\u0430\\u043d\\u043d\\u043e\\u0435\": 50, \"\\u0418\\u0441\\u0442\\u0438\\u043d\\u043d\\u043e\\u0435\": 64}, {\"\\u0420\\u0430\\u0441\\u0447\\u0438\\u0442\\u0430\\u043d\\u043d\\u043e\\u0435\": 38, \"\\u0418\\u0441\\u0442\\u0438\\u043d\\u043d\\u043e\\u0435\": 40}, {\"\\u0420\\u0430\\u0441\\u0447\\u0438\\u0442\\u0430\\u043d\\u043d\\u043e\\u0435\": 45, \"\\u0418\\u0441\\u0442\\u0438\\u043d\\u043d\\u043e\\u0435\": 49}, {\"\\u0420\\u0430\\u0441\\u0447\\u0438\\u0442\\u0430\\u043d\\u043d\\u043e\\u0435\": 46, \"\\u0418\\u0441\\u0442\\u0438\\u043d\\u043d\\u043e\\u0435\": 50}, {\"\\u0420\\u0430\\u0441\\u0447\\u0438\\u0442\\u0430\\u043d\\u043d\\u043e\\u0435\": 47, \"\\u0418\\u0441\\u0442\\u0438\\u043d\\u043d\\u043e\\u0435\": 47}, {\"\\u0420\\u0430\\u0441\\u0447\\u0438\\u0442\\u0430\\u043d\\u043d\\u043e\\u0435\": 53, \"\\u0418\\u0441\\u0442\\u0438\\u043d\\u043d\\u043e\\u0435\": 61}, {\"\\u0420\\u0430\\u0441\\u0447\\u0438\\u0442\\u0430\\u043d\\u043d\\u043e\\u0435\": 37, \"\\u0418\\u0441\\u0442\\u0438\\u043d\\u043d\\u043e\\u0435\": 40}, {\"\\u0420\\u0430\\u0441\\u0447\\u0438\\u0442\\u0430\\u043d\\u043d\\u043e\\u0435\": 33, \"\\u0418\\u0441\\u0442\\u0438\\u043d\\u043d\\u043e\\u0435\": 35}, {\"\\u0420\\u0430\\u0441\\u0447\\u0438\\u0442\\u0430\\u043d\\u043d\\u043e\\u0435\": 66, \"\\u0418\\u0441\\u0442\\u0438\\u043d\\u043d\\u043e\\u0435\": 67}, {\"\\u0420\\u0430\\u0441\\u0447\\u0438\\u0442\\u0430\\u043d\\u043d\\u043e\\u0435\": 62, \"\\u0418\\u0441\\u0442\\u0438\\u043d\\u043d\\u043e\\u0435\": 51}, {\"\\u0420\\u0430\\u0441\\u0447\\u0438\\u0442\\u0430\\u043d\\u043d\\u043e\\u0435\": 46, \"\\u0418\\u0441\\u0442\\u0438\\u043d\\u043d\\u043e\\u0435\": 52}, {\"\\u0420\\u0430\\u0441\\u0447\\u0438\\u0442\\u0430\\u043d\\u043d\\u043e\\u0435\": 35, \"\\u0418\\u0441\\u0442\\u0438\\u043d\\u043d\\u043e\\u0435\": 41}, {\"\\u0420\\u0430\\u0441\\u0447\\u0438\\u0442\\u0430\\u043d\\u043d\\u043e\\u0435\": 56, \"\\u0418\\u0441\\u0442\\u0438\\u043d\\u043d\\u043e\\u0435\": 57}, {\"\\u0420\\u0430\\u0441\\u0447\\u0438\\u0442\\u0430\\u043d\\u043d\\u043e\\u0435\": 50, \"\\u0418\\u0441\\u0442\\u0438\\u043d\\u043d\\u043e\\u0435\": 56}, {\"\\u0420\\u0430\\u0441\\u0447\\u0438\\u0442\\u0430\\u043d\\u043d\\u043e\\u0435\": 55, \"\\u0418\\u0441\\u0442\\u0438\\u043d\\u043d\\u043e\\u0435\": 61}, {\"\\u0420\\u0430\\u0441\\u0447\\u0438\\u0442\\u0430\\u043d\\u043d\\u043e\\u0435\": 67, \"\\u0418\\u0441\\u0442\\u0438\\u043d\\u043d\\u043e\\u0435\": 70}, {\"\\u0420\\u0430\\u0441\\u0447\\u0438\\u0442\\u0430\\u043d\\u043d\\u043e\\u0435\": 40, \"\\u0418\\u0441\\u0442\\u0438\\u043d\\u043d\\u043e\\u0435\": 43}, {\"\\u0420\\u0430\\u0441\\u0447\\u0438\\u0442\\u0430\\u043d\\u043d\\u043e\\u0435\": 50, \"\\u0418\\u0441\\u0442\\u0438\\u043d\\u043d\\u043e\\u0435\": 40}, {\"\\u0420\\u0430\\u0441\\u0447\\u0438\\u0442\\u0430\\u043d\\u043d\\u043e\\u0435\": 40, \"\\u0418\\u0441\\u0442\\u0438\\u043d\\u043d\\u043e\\u0435\": 41}, {\"\\u0420\\u0430\\u0441\\u0447\\u0438\\u0442\\u0430\\u043d\\u043d\\u043e\\u0435\": 40, \"\\u0418\\u0441\\u0442\\u0438\\u043d\\u043d\\u043e\\u0435\": 42}, {\"\\u0420\\u0430\\u0441\\u0447\\u0438\\u0442\\u0430\\u043d\\u043d\\u043e\\u0435\": 74, \"\\u0418\\u0441\\u0442\\u0438\\u043d\\u043d\\u043e\\u0435\": 75}, {\"\\u0420\\u0430\\u0441\\u0447\\u0438\\u0442\\u0430\\u043d\\u043d\\u043e\\u0435\": 61, \"\\u0418\\u0441\\u0442\\u0438\\u043d\\u043d\\u043e\\u0435\": 67}, {\"\\u0420\\u0430\\u0441\\u0447\\u0438\\u0442\\u0430\\u043d\\u043d\\u043e\\u0435\": 50, \"\\u0418\\u0441\\u0442\\u0438\\u043d\\u043d\\u043e\\u0435\": 50}, {\"\\u0420\\u0430\\u0441\\u0447\\u0438\\u0442\\u0430\\u043d\\u043d\\u043e\\u0435\": 58, \"\\u0418\\u0441\\u0442\\u0438\\u043d\\u043d\\u043e\\u0435\": 60}, {\"\\u0420\\u0430\\u0441\\u0447\\u0438\\u0442\\u0430\\u043d\\u043d\\u043e\\u0435\": 56, \"\\u0418\\u0441\\u0442\\u0438\\u043d\\u043d\\u043e\\u0435\": 55}, {\"\\u0420\\u0430\\u0441\\u0447\\u0438\\u0442\\u0430\\u043d\\u043d\\u043e\\u0435\": 75, \"\\u0418\\u0441\\u0442\\u0438\\u043d\\u043d\\u043e\\u0435\": 73}, {\"\\u0420\\u0430\\u0441\\u0447\\u0438\\u0442\\u0430\\u043d\\u043d\\u043e\\u0435\": 21, \"\\u0418\\u0441\\u0442\\u0438\\u043d\\u043d\\u043e\\u0435\": 20}, {\"\\u0420\\u0430\\u0441\\u0447\\u0438\\u0442\\u0430\\u043d\\u043d\\u043e\\u0435\": 57, \"\\u0418\\u0441\\u0442\\u0438\\u043d\\u043d\\u043e\\u0435\": 53}, {\"\\u0420\\u0430\\u0441\\u0447\\u0438\\u0442\\u0430\\u043d\\u043d\\u043e\\u0435\": 38, \"\\u0418\\u0441\\u0442\\u0438\\u043d\\u043d\\u043e\\u0435\": 35}, {\"\\u0420\\u0430\\u0441\\u0447\\u0438\\u0442\\u0430\\u043d\\u043d\\u043e\\u0435\": 58, \"\\u0418\\u0441\\u0442\\u0438\\u043d\\u043d\\u043e\\u0435\": 51}, {\"\\u0420\\u0430\\u0441\\u0447\\u0438\\u0442\\u0430\\u043d\\u043d\\u043e\\u0435\": 55, \"\\u0418\\u0441\\u0442\\u0438\\u043d\\u043d\\u043e\\u0435\": 51}, {\"\\u0420\\u0430\\u0441\\u0447\\u0438\\u0442\\u0430\\u043d\\u043d\\u043e\\u0435\": 65, \"\\u0418\\u0441\\u0442\\u0438\\u043d\\u043d\\u043e\\u0435\": 74}, {\"\\u0420\\u0430\\u0441\\u0447\\u0438\\u0442\\u0430\\u043d\\u043d\\u043e\\u0435\": 48, \"\\u0418\\u0441\\u0442\\u0438\\u043d\\u043d\\u043e\\u0435\": 52}, {\"\\u0420\\u0430\\u0441\\u0447\\u0438\\u0442\\u0430\\u043d\\u043d\\u043e\\u0435\": 46, \"\\u0418\\u0441\\u0442\\u0438\\u043d\\u043d\\u043e\\u0435\": 47}, {\"\\u0420\\u0430\\u0441\\u0447\\u0438\\u0442\\u0430\\u043d\\u043d\\u043e\\u0435\": 49, \"\\u0418\\u0441\\u0442\\u0438\\u043d\\u043d\\u043e\\u0435\": 58}, {\"\\u0420\\u0430\\u0441\\u0447\\u0438\\u0442\\u0430\\u043d\\u043d\\u043e\\u0435\": 71, \"\\u0418\\u0441\\u0442\\u0438\\u043d\\u043d\\u043e\\u0435\": 67}, {\"\\u0420\\u0430\\u0441\\u0447\\u0438\\u0442\\u0430\\u043d\\u043d\\u043e\\u0435\": 44, \"\\u0418\\u0441\\u0442\\u0438\\u043d\\u043d\\u043e\\u0435\": 40}, {\"\\u0420\\u0430\\u0441\\u0447\\u0438\\u0442\\u0430\\u043d\\u043d\\u043e\\u0435\": 31, \"\\u0418\\u0441\\u0442\\u0438\\u043d\\u043d\\u043e\\u0435\": 39}, {\"\\u0420\\u0430\\u0441\\u0447\\u0438\\u0442\\u0430\\u043d\\u043d\\u043e\\u0435\": 52, \"\\u0418\\u0441\\u0442\\u0438\\u043d\\u043d\\u043e\\u0435\": 48}, {\"\\u0420\\u0430\\u0441\\u0447\\u0438\\u0442\\u0430\\u043d\\u043d\\u043e\\u0435\": 48, \"\\u0418\\u0441\\u0442\\u0438\\u043d\\u043d\\u043e\\u0435\": 49}, {\"\\u0420\\u0430\\u0441\\u0447\\u0438\\u0442\\u0430\\u043d\\u043d\\u043e\\u0435\": 41, \"\\u0418\\u0441\\u0442\\u0438\\u043d\\u043d\\u043e\\u0435\": 40}, {\"\\u0420\\u0430\\u0441\\u0447\\u0438\\u0442\\u0430\\u043d\\u043d\\u043e\\u0435\": 55, \"\\u0418\\u0441\\u0442\\u0438\\u043d\\u043d\\u043e\\u0435\": 53}, {\"\\u0420\\u0430\\u0441\\u0447\\u0438\\u0442\\u0430\\u043d\\u043d\\u043e\\u0435\": 40, \"\\u0418\\u0441\\u0442\\u0438\\u043d\\u043d\\u043e\\u0435\": 43}, {\"\\u0420\\u0430\\u0441\\u0447\\u0438\\u0442\\u0430\\u043d\\u043d\\u043e\\u0435\": 49, \"\\u0418\\u0441\\u0442\\u0438\\u043d\\u043d\\u043e\\u0435\": 40}, {\"\\u0420\\u0430\\u0441\\u0447\\u0438\\u0442\\u0430\\u043d\\u043d\\u043e\\u0435\": 40, \"\\u0418\\u0441\\u0442\\u0438\\u043d\\u043d\\u043e\\u0435\": 51}, {\"\\u0420\\u0430\\u0441\\u0447\\u0438\\u0442\\u0430\\u043d\\u043d\\u043e\\u0435\": 73, \"\\u0418\\u0441\\u0442\\u0438\\u043d\\u043d\\u043e\\u0435\": 70}, {\"\\u0420\\u0430\\u0441\\u0447\\u0438\\u0442\\u0430\\u043d\\u043d\\u043e\\u0435\": 51, \"\\u0418\\u0441\\u0442\\u0438\\u043d\\u043d\\u043e\\u0435\": 47}, {\"\\u0420\\u0430\\u0441\\u0447\\u0438\\u0442\\u0430\\u043d\\u043d\\u043e\\u0435\": 46, \"\\u0418\\u0441\\u0442\\u0438\\u043d\\u043d\\u043e\\u0435\": 53}, {\"\\u0420\\u0430\\u0441\\u0447\\u0438\\u0442\\u0430\\u043d\\u043d\\u043e\\u0435\": 70, \"\\u0418\\u0441\\u0442\\u0438\\u043d\\u043d\\u043e\\u0435\": 70}, {\"\\u0420\\u0430\\u0441\\u0447\\u0438\\u0442\\u0430\\u043d\\u043d\\u043e\\u0435\": 41, \"\\u0418\\u0441\\u0442\\u0438\\u043d\\u043d\\u043e\\u0435\": 50}, {\"\\u0420\\u0430\\u0441\\u0447\\u0438\\u0442\\u0430\\u043d\\u043d\\u043e\\u0435\": 53, \"\\u0418\\u0441\\u0442\\u0438\\u043d\\u043d\\u043e\\u0435\": 47}, {\"\\u0420\\u0430\\u0441\\u0447\\u0438\\u0442\\u0430\\u043d\\u043d\\u043e\\u0435\": 51, \"\\u0418\\u0441\\u0442\\u0438\\u043d\\u043d\\u043e\\u0435\": 54}, {\"\\u0420\\u0430\\u0441\\u0447\\u0438\\u0442\\u0430\\u043d\\u043d\\u043e\\u0435\": 32, \"\\u0418\\u0441\\u0442\\u0438\\u043d\\u043d\\u043e\\u0435\": 39}, {\"\\u0420\\u0430\\u0441\\u0447\\u0438\\u0442\\u0430\\u043d\\u043d\\u043e\\u0435\": 61, \"\\u0418\\u0441\\u0442\\u0438\\u043d\\u043d\\u043e\\u0435\": 59}, {\"\\u0420\\u0430\\u0441\\u0447\\u0438\\u0442\\u0430\\u043d\\u043d\\u043e\\u0435\": 50, \"\\u0418\\u0441\\u0442\\u0438\\u043d\\u043d\\u043e\\u0435\": 53}, {\"\\u0420\\u0430\\u0441\\u0447\\u0438\\u0442\\u0430\\u043d\\u043d\\u043e\\u0435\": 66, \"\\u0418\\u0441\\u0442\\u0438\\u043d\\u043d\\u043e\\u0435\": 57}, {\"\\u0420\\u0430\\u0441\\u0447\\u0438\\u0442\\u0430\\u043d\\u043d\\u043e\\u0435\": 34, \"\\u0418\\u0441\\u0442\\u0438\\u043d\\u043d\\u043e\\u0435\": 31}, {\"\\u0420\\u0430\\u0441\\u0447\\u0438\\u0442\\u0430\\u043d\\u043d\\u043e\\u0435\": 58, \"\\u0418\\u0441\\u0442\\u0438\\u043d\\u043d\\u043e\\u0435\": 72}, {\"\\u0420\\u0430\\u0441\\u0447\\u0438\\u0442\\u0430\\u043d\\u043d\\u043e\\u0435\": 60, \"\\u0418\\u0441\\u0442\\u0438\\u043d\\u043d\\u043e\\u0435\": 59}, {\"\\u0420\\u0430\\u0441\\u0447\\u0438\\u0442\\u0430\\u043d\\u043d\\u043e\\u0435\": 55, \"\\u0418\\u0441\\u0442\\u0438\\u043d\\u043d\\u043e\\u0435\": 51}, {\"\\u0420\\u0430\\u0441\\u0447\\u0438\\u0442\\u0430\\u043d\\u043d\\u043e\\u0435\": 42, \"\\u0418\\u0441\\u0442\\u0438\\u043d\\u043d\\u043e\\u0435\": 43}, {\"\\u0420\\u0430\\u0441\\u0447\\u0438\\u0442\\u0430\\u043d\\u043d\\u043e\\u0435\": 58, \"\\u0418\\u0441\\u0442\\u0438\\u043d\\u043d\\u043e\\u0435\": 44}, {\"\\u0420\\u0430\\u0441\\u0447\\u0438\\u0442\\u0430\\u043d\\u043d\\u043e\\u0435\": 36, \"\\u0418\\u0441\\u0442\\u0438\\u043d\\u043d\\u043e\\u0435\": 39}, {\"\\u0420\\u0430\\u0441\\u0447\\u0438\\u0442\\u0430\\u043d\\u043d\\u043e\\u0435\": 40, \"\\u0418\\u0441\\u0442\\u0438\\u043d\\u043d\\u043e\\u0435\": 48}, {\"\\u0420\\u0430\\u0441\\u0447\\u0438\\u0442\\u0430\\u043d\\u043d\\u043e\\u0435\": 34, \"\\u0418\\u0441\\u0442\\u0438\\u043d\\u043d\\u043e\\u0435\": 33}, {\"\\u0420\\u0430\\u0441\\u0447\\u0438\\u0442\\u0430\\u043d\\u043d\\u043e\\u0435\": 46, \"\\u0418\\u0441\\u0442\\u0438\\u043d\\u043d\\u043e\\u0435\": 43}, {\"\\u0420\\u0430\\u0441\\u0447\\u0438\\u0442\\u0430\\u043d\\u043d\\u043e\\u0435\": 37, \"\\u0418\\u0441\\u0442\\u0438\\u043d\\u043d\\u043e\\u0435\": 41}, {\"\\u0420\\u0430\\u0441\\u0447\\u0438\\u0442\\u0430\\u043d\\u043d\\u043e\\u0435\": 38, \"\\u0418\\u0441\\u0442\\u0438\\u043d\\u043d\\u043e\\u0435\": 41}, {\"\\u0420\\u0430\\u0441\\u0447\\u0438\\u0442\\u0430\\u043d\\u043d\\u043e\\u0435\": 42, \"\\u0418\\u0441\\u0442\\u0438\\u043d\\u043d\\u043e\\u0435\": 44}, {\"\\u0420\\u0430\\u0441\\u0447\\u0438\\u0442\\u0430\\u043d\\u043d\\u043e\\u0435\": 100, \"\\u0418\\u0441\\u0442\\u0438\\u043d\\u043d\\u043e\\u0435\": 117}, {\"\\u0420\\u0430\\u0441\\u0447\\u0438\\u0442\\u0430\\u043d\\u043d\\u043e\\u0435\": 31, \"\\u0418\\u0441\\u0442\\u0438\\u043d\\u043d\\u043e\\u0435\": 37}, {\"\\u0420\\u0430\\u0441\\u0447\\u0438\\u0442\\u0430\\u043d\\u043d\\u043e\\u0435\": 41, \"\\u0418\\u0441\\u0442\\u0438\\u043d\\u043d\\u043e\\u0435\": 39}, {\"\\u0420\\u0430\\u0441\\u0447\\u0438\\u0442\\u0430\\u043d\\u043d\\u043e\\u0435\": 41, \"\\u0418\\u0441\\u0442\\u0438\\u043d\\u043d\\u043e\\u0435\": 41}, {\"\\u0420\\u0430\\u0441\\u0447\\u0438\\u0442\\u0430\\u043d\\u043d\\u043e\\u0435\": 38, \"\\u0418\\u0441\\u0442\\u0438\\u043d\\u043d\\u043e\\u0435\": 26}, {\"\\u0420\\u0430\\u0441\\u0447\\u0438\\u0442\\u0430\\u043d\\u043d\\u043e\\u0435\": 65, \"\\u0418\\u0441\\u0442\\u0438\\u043d\\u043d\\u043e\\u0435\": 69}, {\"\\u0420\\u0430\\u0441\\u0447\\u0438\\u0442\\u0430\\u043d\\u043d\\u043e\\u0435\": 45, \"\\u0418\\u0441\\u0442\\u0438\\u043d\\u043d\\u043e\\u0435\": 45}, {\"\\u0420\\u0430\\u0441\\u0447\\u0438\\u0442\\u0430\\u043d\\u043d\\u043e\\u0435\": 47, \"\\u0418\\u0441\\u0442\\u0438\\u043d\\u043d\\u043e\\u0435\": 47}, {\"\\u0420\\u0430\\u0441\\u0447\\u0438\\u0442\\u0430\\u043d\\u043d\\u043e\\u0435\": 45, \"\\u0418\\u0441\\u0442\\u0438\\u043d\\u043d\\u043e\\u0435\": 52}, {\"\\u0420\\u0430\\u0441\\u0447\\u0438\\u0442\\u0430\\u043d\\u043d\\u043e\\u0435\": 43, \"\\u0418\\u0441\\u0442\\u0438\\u043d\\u043d\\u043e\\u0435\": 45}, {\"\\u0420\\u0430\\u0441\\u0447\\u0438\\u0442\\u0430\\u043d\\u043d\\u043e\\u0435\": 65, \"\\u0418\\u0441\\u0442\\u0438\\u043d\\u043d\\u043e\\u0435\": 58}, {\"\\u0420\\u0430\\u0441\\u0447\\u0438\\u0442\\u0430\\u043d\\u043d\\u043e\\u0435\": 44, \"\\u0418\\u0441\\u0442\\u0438\\u043d\\u043d\\u043e\\u0435\": 44}, {\"\\u0420\\u0430\\u0441\\u0447\\u0438\\u0442\\u0430\\u043d\\u043d\\u043e\\u0435\": 62, \"\\u0418\\u0441\\u0442\\u0438\\u043d\\u043d\\u043e\\u0435\": 64}, {\"\\u0420\\u0430\\u0441\\u0447\\u0438\\u0442\\u0430\\u043d\\u043d\\u043e\\u0435\": 57, \"\\u0418\\u0441\\u0442\\u0438\\u043d\\u043d\\u043e\\u0435\": 53}, {\"\\u0420\\u0430\\u0441\\u0447\\u0438\\u0442\\u0430\\u043d\\u043d\\u043e\\u0435\": 59, \"\\u0418\\u0441\\u0442\\u0438\\u043d\\u043d\\u043e\\u0435\": 64}, {\"\\u0420\\u0430\\u0441\\u0447\\u0438\\u0442\\u0430\\u043d\\u043d\\u043e\\u0435\": 66, \"\\u0418\\u0441\\u0442\\u0438\\u043d\\u043d\\u043e\\u0435\": 67}, {\"\\u0420\\u0430\\u0441\\u0447\\u0438\\u0442\\u0430\\u043d\\u043d\\u043e\\u0435\": 44, \"\\u0418\\u0441\\u0442\\u0438\\u043d\\u043d\\u043e\\u0435\": 48}, {\"\\u0420\\u0430\\u0441\\u0447\\u0438\\u0442\\u0430\\u043d\\u043d\\u043e\\u0435\": 141, \"\\u0418\\u0441\\u0442\\u0438\\u043d\\u043d\\u043e\\u0435\": 146}, {\"\\u0420\\u0430\\u0441\\u0447\\u0438\\u0442\\u0430\\u043d\\u043d\\u043e\\u0435\": 38, \"\\u0418\\u0441\\u0442\\u0438\\u043d\\u043d\\u043e\\u0435\": 39}, {\"\\u0420\\u0430\\u0441\\u0447\\u0438\\u0442\\u0430\\u043d\\u043d\\u043e\\u0435\": 46, \"\\u0418\\u0441\\u0442\\u0438\\u043d\\u043d\\u043e\\u0435\": 50}, {\"\\u0420\\u0430\\u0441\\u0447\\u0438\\u0442\\u0430\\u043d\\u043d\\u043e\\u0435\": 71, \"\\u0418\\u0441\\u0442\\u0438\\u043d\\u043d\\u043e\\u0435\": 86}, {\"\\u0420\\u0430\\u0441\\u0447\\u0438\\u0442\\u0430\\u043d\\u043d\\u043e\\u0435\": 47, \"\\u0418\\u0441\\u0442\\u0438\\u043d\\u043d\\u043e\\u0435\": 48}, {\"\\u0420\\u0430\\u0441\\u0447\\u0438\\u0442\\u0430\\u043d\\u043d\\u043e\\u0435\": 77, \"\\u0418\\u0441\\u0442\\u0438\\u043d\\u043d\\u043e\\u0435\": 85}, {\"\\u0420\\u0430\\u0441\\u0447\\u0438\\u0442\\u0430\\u043d\\u043d\\u043e\\u0435\": 41, \"\\u0418\\u0441\\u0442\\u0438\\u043d\\u043d\\u043e\\u0435\": 39}]}};\n",
              "      var embedOpt = {\"mode\": \"vega-lite\"};\n",
              "\n",
              "      function showError(el, error){\n",
              "          el.innerHTML = ('<div class=\"error\" style=\"color:red;\">'\n",
              "                          + '<p>JavaScript Error: ' + error.message + '</p>'\n",
              "                          + \"<p>This usually means there's a typo in your chart specification. \"\n",
              "                          + \"See the javascript console for the full traceback.</p>\"\n",
              "                          + '</div>');\n",
              "          throw error;\n",
              "      }\n",
              "      const el = document.getElementById('altair-viz');\n",
              "      vegaEmbed(\"#altair-viz\", spec, embedOpt)\n",
              "        .catch(error => showError(el, error));\n",
              "\n",
              "  </script>\n",
              "</body>\n",
              "</html>"
            ]
          },
          "metadata": {
            "tags": []
          },
          "execution_count": 545
        }
      ]
    },
    {
      "metadata": {
        "id": "iBKFCONUnPk6",
        "colab_type": "code",
        "colab": {}
      },
      "cell_type": "code",
      "source": [
        ".interactive()"
      ],
      "execution_count": 0,
      "outputs": []
    }
  ]
}